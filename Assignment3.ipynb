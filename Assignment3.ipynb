{
 "cells": [
  {
   "attachments": {},
   "cell_type": "markdown",
   "metadata": {},
   "source": [
    "Question 1: sum closet to target"
   ]
  },
  {
   "cell_type": "code",
   "execution_count": 10,
   "metadata": {},
   "outputs": [],
   "source": [
    "def closest_sum(arr:list,n:int)->bool:\n",
    "\n",
    "    arr.sort()\n",
    "    l=len(arr)\n",
    "    ini_sum=float('inf')\n",
    "\n",
    "    for i in range(l-2):\n",
    "        left=i+1\n",
    "        right=l-1\n",
    "\n",
    "        while left < right:\n",
    "            current_sum= arr[i] + arr[left] + arr[right]\n",
    "\n",
    "            if abs(current_sum - n ) < abs(ini_sum - n):\n",
    "                ini_sum=current_sum\n",
    "            \n",
    "            if current_sum < n:\n",
    "                left = left + 1\n",
    "             \n",
    "            elif current_sum > n:\n",
    "                right = right -1\n",
    "            \n",
    "            else:\n",
    "                return current_sum\n",
    "    return ini_sum\n"
   ]
  },
  {
   "cell_type": "code",
   "execution_count": 11,
   "metadata": {},
   "outputs": [
    {
     "data": {
      "text/plain": [
       "2"
      ]
     },
     "execution_count": 11,
     "metadata": {},
     "output_type": "execute_result"
    }
   ],
   "source": [
    "closest_sum([-1,2,1,-4],1)"
   ]
  },
  {
   "attachments": {},
   "cell_type": "markdown",
   "metadata": {},
   "source": [
    "Question 2: Quad sum"
   ]
  },
  {
   "cell_type": "code",
   "execution_count": null,
   "metadata": {},
   "outputs": [],
   "source": []
  }
 ],
 "metadata": {
  "kernelspec": {
   "display_name": "Python 3",
   "language": "python",
   "name": "python3"
  },
  "language_info": {
   "codemirror_mode": {
    "name": "ipython",
    "version": 3
   },
   "file_extension": ".py",
   "mimetype": "text/x-python",
   "name": "python",
   "nbconvert_exporter": "python",
   "pygments_lexer": "ipython3",
   "version": "3.8.0"
  },
  "orig_nbformat": 4
 },
 "nbformat": 4,
 "nbformat_minor": 2
}
