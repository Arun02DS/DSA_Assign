{
 "cells": [
  {
   "cell_type": "markdown",
   "metadata": {},
   "source": [
    "1. Scenario: A company wants to analyze the sales performance of its products in different regions. They have collected the following data:\n",
    "   Region A: [10, 15, 12, 8, 14]\n",
    "   Region B: [18, 20, 16, 22, 25]\n",
    "   Calculate the mean sales for each region.\n",
    "\n",
    "2. Scenario: A survey is conducted to measure customer satisfaction on a scale of 1 to 5. The data collected is as follows:\n",
    "   [4, 5, 2, 3, 5, 4, 3, 2, 4, 5]\n",
    "   Calculate the mode of the survey responses.\n",
    "\n",
    "3. Scenario: A company wants to compare the salaries of two departments. The salary data for Department A and Department B are as follows:\n",
    "   Department A: [5000, 6000, 5500, 7000]\n",
    "   Department B: [4500, 5500, 5800, 6000, 5200]\n",
    "   Calculate the median salary for each department.\n",
    "\n",
    "4. Scenario: A data analyst wants to determine the variability in the daily stock prices of a company. The data collected is as follows:\n",
    "   [25.5, 24.8, 26.1, 25.3, 24.9]\n",
    "   Calculate the range of the stock prices.\n",
    "\n",
    "5. Scenario: A study is conducted to compare the performance of two different teaching methods. The test scores of the students in each group are as follows:\n",
    "   Group A: [85, 90, 92, 88, 91]\n",
    "   Group B: [82, 88, 90, 86, 87]\n",
    "   Perform a t-test to determine if there is a significant difference in the mean scores between the two groups.\n",
    "\n",
    "6. Scenario: A company wants to analyze the relationship between advertising expenditure and sales. The data collected is as follows:\n",
    "   Advertising Expenditure (in thousands): [10, 15, 12, 8, 14]\n",
    "   Sales (in thousands): [25, 30, 28, 20, 26]\n",
    "   Calculate the correlation coefficient between advertising expenditure and sales.\n",
    "\n",
    "7. Scenario: A survey is conducted to measure the heights of a group of people. The data collected is as follows:\n",
    "   [160, 170, 165, 155, 175, 180, 170]\n",
    "   Calculate the standard deviation of the heights.\n",
    "\n",
    "8. Scenario: A company wants to analyze the relationship between employee tenure and job satisfaction. The data collected is as follows:\n",
    "   Employee Tenure (in years): [2, 3, 5, 4, 6, 2, 4]\n",
    "   Job Satisfaction (on a scale of 1 to 10): [7, 8, 6, 9, 5, 7, 6]\n",
    "   Perform a linear regression analysis to predict job satisfaction based on employee tenure.\n",
    "\n",
    "9. Scenario: A study is conducted to compare the effectiveness of two different medications. The recovery times of the patients in each group are as follows:\n",
    "   Medication A: [10, 12, 14, 11, 13]\n",
    "   Medication B: [15, 17, 16, 14, 18]\n",
    "   Perform an analysis of variance (ANOVA) to determine if there is a significant difference in the mean recovery times between the two medications.\n",
    "\n",
    "10. Scenario: A company wants to analyze customer feedback ratings on a scale of 1 to 10. The data collected is\n",
    "\n",
    " as follows:\n",
    "    [8, 9, 7, 6, 8, 10, 9, 8, 7, 8]\n",
    "    Calculate the 75th percentile of the feedback ratings.\n",
    "\n",
    "11. Scenario: A quality control department wants to test the weight consistency of a product. The weights of a sample of products are as follows:\n",
    "    [10.2, 9.8, 10.0, 10.5, 10.3, 10.1]\n",
    "    Perform a hypothesis test to determine if the mean weight differs significantly from 10 grams.\n",
    "\n",
    "12. Scenario: A company wants to analyze the click-through rates of two different website designs. The number of clicks for each design is as follows:\n",
    "    Design A: [100, 120, 110, 90, 95]\n",
    "    Design B: [80, 85, 90, 95, 100]\n",
    "    Perform a chi-square test to determine if there is a significant difference in the click-through rates between the two designs.\n",
    "\n",
    "13. Scenario: A survey is conducted to measure customer satisfaction with a product on a scale of 1 to 10. The data collected is as follows:\n",
    "    [7, 9, 6, 8, 10, 7, 8, 9, 7, 8]\n",
    "    Calculate the 95% confidence interval for the population mean satisfaction score.\n",
    "\n",
    "14. Scenario: A company wants to analyze the effect of temperature on product performance. The data collected is as follows:\n",
    "    Temperature (in degrees Celsius): [20, 22, 23, 19, 21]\n",
    "    Performance (on a scale of 1 to 10): [8, 7, 9, 6, 8]\n",
    "    Perform a simple linear regression to predict performance based on temperature.\n",
    "\n",
    "15. Scenario: A study is conducted to compare the preferences of two groups of participants. The preferences are measured on a Likert scale from 1 to 5. The data collected is as follows:\n",
    "    Group A: [4, 3, 5, 2, 4]\n",
    "    Group B: [3, 2, 4, 3, 3]\n",
    "    Perform a Mann-Whitney U test to determine if there is a significant difference in the median preferences between the two groups.\n",
    "\n",
    "16. Scenario: A company wants to analyze the distribution of customer ages. The data collected is as follows:\n",
    "    [25, 30, 35, 40, 45, 50, 55, 60, 65, 70]\n",
    "    Calculate the interquartile range (IQR) of the ages.\n",
    "\n",
    "17. Scenario: A study is conducted to compare the performance of three different machine learning algorithms. The accuracy scores for each algorithm are as follows:\n",
    "    Algorithm A: [0.85, 0.80, 0.82, 0.87, 0.83]\n",
    "    Algorithm B: [0.78, 0.82, 0.84, 0.80, 0.79]\n",
    "    Algorithm C: [0.90, 0.88, 0.89, 0.86, 0.87]\n",
    "    Perform a Kruskal-Wallis test to determine if there is a significant difference in the median accuracy scores between the algorithms.\n",
    "\n",
    "18. Scenario: A company wants to analyze the effect of price on sales. The data collected is as follows:\n",
    "    Price (in dollars): [10, 15, 12, 8, 14]\n",
    "    Sales: [100, 80, 90, 110, 95]\n",
    "    Perform a simple linear regression to predict\n",
    "\n",
    " sales based on price.\n",
    "\n",
    "19. Scenario: A survey is conducted to measure the satisfaction levels of customers with a new product. The data collected is as follows:\n",
    "    [7, 8, 9, 6, 8, 7, 9, 7, 8, 7]\n",
    "    Calculate the standard error of the mean satisfaction score.\n",
    "\n",
    "20. Scenario: A company wants to analyze the relationship between advertising expenditure and sales. The data collected is as follows:\n",
    "    Advertising Expenditure (in thousands): [10, 15, 12, 8, 14]\n",
    "    Sales (in thousands): [25, 30, 28, 20, 26]\n",
    "    Perform a multiple regression analysis to predict sales based on advertising expenditure.\n",
    "\n"
   ]
  },
  {
   "cell_type": "markdown",
   "metadata": {},
   "source": [
    "1. Scenario: A company wants to analyze the sales performance of its products in different regions. They have collected the following data:\n",
    "   Region A: [10, 15, 12, 8, 14]\n",
    "   Region B: [18, 20, 16, 22, 25]\n",
    "   Calculate the mean sales for each region."
   ]
  },
  {
   "cell_type": "code",
   "execution_count": 4,
   "metadata": {},
   "outputs": [
    {
     "name": "stdout",
     "output_type": "stream",
     "text": [
      "mean of regionA: 11.8\n",
      "mean of regionA: 20.2\n"
     ]
    }
   ],
   "source": [
    "RegionA= [10, 15, 12, 8, 14]\n",
    "RegionB= [18, 20, 16, 22, 25]\n",
    "\n",
    "def mean_region(lst):\n",
    "    return sum(lst)/len(lst)\n",
    "\n",
    "print(f\"mean of regionA: {mean_region(RegionA)}\")\n",
    "print(f\"mean of regionA: {mean_region(RegionB)}\")\n"
   ]
  },
  {
   "cell_type": "markdown",
   "metadata": {},
   "source": [
    "2. Scenario: A survey is conducted to measure customer satisfaction on a scale of 1 to 5. The data collected is as follows:\n",
    "   [4, 5, 2, 3, 5, 4, 3, 2, 4, 5]\n",
    "   Calculate the mode of the survey responses."
   ]
  },
  {
   "cell_type": "code",
   "execution_count": 17,
   "metadata": {},
   "outputs": [],
   "source": [
    "CSAT=[4, 5, 2, 3, 5, 4, 3, 2, 4, 5]\n",
    "\n",
    "def mode_csat(lst):\n",
    "    csat_count={}\n",
    "\n",
    "    for i in lst:\n",
    "        if i in csat_count:\n",
    "            csat_count[i]+=1\n",
    "        else:\n",
    "            csat_count[i]=1\n",
    "\n",
    "    max_count=max(csat_count.values())\n",
    "    mode=[key for key, value in csat_count.items() if value==max_count]\n",
    "\n",
    "    return mode\n",
    "   \n"
   ]
  },
  {
   "cell_type": "code",
   "execution_count": 18,
   "metadata": {},
   "outputs": [
    {
     "data": {
      "text/plain": [
       "[4, 5]"
      ]
     },
     "execution_count": 18,
     "metadata": {},
     "output_type": "execute_result"
    }
   ],
   "source": [
    "mode_csat(CSAT)"
   ]
  },
  {
   "cell_type": "markdown",
   "metadata": {},
   "source": [
    "3. Scenario: A company wants to compare the salaries of two departments. The salary data for Department A and Department B are as follows:\n",
    "   Department A: [5000, 6000, 5500, 7000]\n",
    "   Department B: [4500, 5500, 5800, 6000, 5200]\n",
    "   Calculate the median salary for each department."
   ]
  },
  {
   "cell_type": "code",
   "execution_count": 28,
   "metadata": {},
   "outputs": [],
   "source": [
    "DepartmentA= [5000, 6000, 5500, 7000]\n",
    "DepartmentB= [4500, 5500, 5800, 6000, 5200]\n",
    "\n",
    "def median_sal(lst):\n",
    "    lst.sort()\n",
    "    left=0\n",
    "    right=len(lst)\n",
    "    mid=int((right+left)/2)\n",
    "    if len(lst)%2==0:\n",
    "        return (lst[mid]+lst[(mid+1)])/2\n",
    "    else:\n",
    "        return lst[mid]"
   ]
  },
  {
   "cell_type": "code",
   "execution_count": 29,
   "metadata": {},
   "outputs": [
    {
     "name": "stdout",
     "output_type": "stream",
     "text": [
      "median for DepartmentA: 6500.0\n",
      "median for DepartmentB: 5500\n"
     ]
    }
   ],
   "source": [
    "print(f\"median for DepartmentA: {median_sal(DepartmentA)}\")\n",
    "print(f\"median for DepartmentB: {median_sal(DepartmentB)}\")"
   ]
  },
  {
   "cell_type": "markdown",
   "metadata": {},
   "source": [
    "4. Scenario: A data analyst wants to determine the variability in the daily stock prices of a company. The data collected is as follows:\n",
    "   [25.5, 24.8, 26.1, 25.3, 24.9]\n",
    "   Calculate the range of the stock prices."
   ]
  },
  {
   "cell_type": "code",
   "execution_count": 42,
   "metadata": {},
   "outputs": [],
   "source": [
    "def range_lst(lst):\n",
    "    lst.sort()\n",
    "    range = round(lst[-1]-lst[0],2)\n",
    "    return f\"range is {range}\""
   ]
  },
  {
   "cell_type": "code",
   "execution_count": 43,
   "metadata": {},
   "outputs": [
    {
     "data": {
      "text/plain": [
       "'range is 1.3'"
      ]
     },
     "execution_count": 43,
     "metadata": {},
     "output_type": "execute_result"
    }
   ],
   "source": [
    "A=[25.5, 24.8, 26.1, 25.3, 24.9]\n",
    "range_lst(A)"
   ]
  },
  {
   "cell_type": "markdown",
   "metadata": {},
   "source": [
    "5. Scenario: A study is conducted to compare the performance of two different teaching methods. The test scores of the students in each group are as follows:\n",
    "   Group A: [85, 90, 92, 88, 91]\n",
    "   Group B: [82, 88, 90, 86, 87]\n",
    "   Perform a t-test to determine if there is a significant difference in the mean scores between the two groups."
   ]
  },
  {
   "cell_type": "code",
   "execution_count": 46,
   "metadata": {},
   "outputs": [],
   "source": [
    "from scipy import stats\n",
    "\n",
    "def ttest_group(groupA,groupB):\n",
    "    _,p_value=stats.ttest_ind(groupA,groupB)\n",
    "    return p_value\n",
    "\n",
    "    "
   ]
  },
  {
   "cell_type": "code",
   "execution_count": 48,
   "metadata": {},
   "outputs": [
    {
     "name": "stdout",
     "output_type": "stream",
     "text": [
      "There is a no significant difference between mean values\n"
     ]
    }
   ],
   "source": [
    "groupA= [85, 90, 92, 88, 91]\n",
    "groupB= [82, 88, 90, 86, 87]\n",
    "p_value = ttest_group(groupA,groupB)\n",
    "alpha=0.05\n",
    "if p_value < alpha:\n",
    "    print(\"There is a significant difference between mean values\")\n",
    "else:\n",
    "    print(\"There is a no significant difference between mean values\")"
   ]
  },
  {
   "cell_type": "markdown",
   "metadata": {},
   "source": [
    "6. Scenario: A company wants to analyze the relationship between advertising expenditure and sales. The data collected is as follows:\n",
    "   Advertising Expenditure (in thousands): [10, 15, 12, 8, 14]\n",
    "   Sales (in thousands): [25, 30, 28, 20, 26]\n",
    "   Calculate the correlation coefficient between advertising expenditure and sales."
   ]
  },
  {
   "cell_type": "code",
   "execution_count": 50,
   "metadata": {},
   "outputs": [],
   "source": [
    "import numpy as np\n",
    "def cor_ads(lst,lst2):\n",
    "    cor_coeff=np.corrcoef(lst,lst2)[0,1]\n",
    "    return cor_coeff"
   ]
  },
  {
   "cell_type": "code",
   "execution_count": 53,
   "metadata": {},
   "outputs": [
    {
     "name": "stdout",
     "output_type": "stream",
     "text": [
      "corelation coefficient for advertinsing and sals are: 0.88\n"
     ]
    }
   ],
   "source": [
    "Advertising = [10, 15, 12, 8, 14]\n",
    "Sales = [25, 30, 28, 20, 26]\n",
    "\n",
    "coef=cor_ads(Advertising,Sales)\n",
    "print(f\"corelation coefficient for advertinsing and sals are: {round(coef,2)}\")"
   ]
  },
  {
   "cell_type": "markdown",
   "metadata": {},
   "source": [
    "7. Scenario: A survey is conducted to measure the heights of a group of people. The data collected is as follows:\n",
    "   [160, 170, 165, 155, 175, 180, 170]\n",
    "   Calculate the standard deviation of the heights."
   ]
  },
  {
   "cell_type": "code",
   "execution_count": 55,
   "metadata": {},
   "outputs": [],
   "source": [
    "height=[160, 170, 165, 155, 175, 180, 170]\n",
    "import numpy as np\n",
    "\n",
    "def stand_devia(lst):\n",
    "    stand_deviation=np.std(lst)\n",
    "    return stand_deviation"
   ]
  },
  {
   "cell_type": "code",
   "execution_count": 56,
   "metadata": {},
   "outputs": [
    {
     "name": "stdout",
     "output_type": "stream",
     "text": [
      "SD for height : 7.953949089757174\n"
     ]
    }
   ],
   "source": [
    "stand_deviation=stand_devia(height)\n",
    "print(f\"SD for height : {stand_deviation}\")"
   ]
  },
  {
   "cell_type": "markdown",
   "metadata": {},
   "source": [
    "8. Scenario: A company wants to analyze the relationship between employee tenure and job satisfaction. The data collected is as follows:\n",
    "   Employee Tenure (in years): [2, 3, 5, 4, 6, 2, 4]\n",
    "   Job Satisfaction (on a scale of 1 to 10): [7, 8, 6, 9, 5, 7, 6]\n",
    "   Perform a linear regression analysis to predict job satisfaction based on employee tenure."
   ]
  },
  {
   "cell_type": "code",
   "execution_count": 57,
   "metadata": {},
   "outputs": [],
   "source": [
    "def Linear_regression(x,y):\n",
    "    n=len(x)\n",
    "    sum_x=sum(x)\n",
    "    sum_y=sum(y)\n",
    "    sum_xy=sum(x[i]*y[i] for i in range(n))\n",
    "    sum_x_squared=sum(x[i]**2 for i in range(n))\n",
    "\n",
    "    slope=(n*sum_xy-sum_x*sum_y)/(n*sum_x_squared-sum_x**2)\n",
    "    intercept= (sum_y-slope*sum_x)/n\n",
    "\n",
    "    mean_y=sum_y/n\n",
    "    ss_total=sum((y[i] - mean_y)**2 for i in range(n))\n",
    "    ss_residual=sum((y[i]-(slope*x[i]+intercept))**2 for i in range(n))\n",
    "    r_value = (ss_total - ss_residual)/ss_total\n",
    "\n",
    "    return slope,intercept,r_value\n",
    "\n"
   ]
  },
  {
   "cell_type": "code",
   "execution_count": 60,
   "metadata": {},
   "outputs": [
    {
     "name": "stdout",
     "output_type": "stream",
     "text": [
      "slope: -0.46808510638297873\n",
      "intercept: 8.595744680851064\n",
      "r_value: 0.27099664053751427\n"
     ]
    },
    {
     "data": {
      "text/plain": [
       "' Above values can be used to \\npredict the job satisfaction by using\\n\\njob_satisfaction = slope * employee_tenure + intercept\\n\\n'"
      ]
     },
     "execution_count": 60,
     "metadata": {},
     "output_type": "execute_result"
    }
   ],
   "source": [
    "employee_tenure = [2, 3, 5, 4, 6, 2, 4]\n",
    "job_satisfaction = [7, 8, 6, 9, 5, 7, 6]\n",
    "\n",
    "slope,intercept,r_value=Linear_regression(employee_tenure,job_satisfaction)\n",
    "print(f\"slope: {slope}\")\n",
    "print(f\"intercept: {intercept}\")\n",
    "print(f\"r_value: {r_value}\")\n",
    "\n",
    "\"\"\" Above values can be used to \n",
    "predict the job satisfaction by using\n",
    "\n",
    "job_satisfaction = slope * employee_tenure + intercept\n",
    "\n",
    "\"\"\""
   ]
  },
  {
   "cell_type": "markdown",
   "metadata": {},
   "source": [
    "9. Scenario: A study is conducted to compare the effectiveness of two different medications. The recovery times of the patients in each group are as follows:\n",
    "   Medication A: [10, 12, 14, 11, 13]\n",
    "   Medication B: [15, 17, 16, 14, 18]\n",
    "   Perform an analysis of variance (ANOVA) to determine if there is a significant difference in the mean recovery times between the two medications."
   ]
  },
  {
   "cell_type": "code",
   "execution_count": 63,
   "metadata": {},
   "outputs": [
    {
     "name": "stdout",
     "output_type": "stream",
     "text": [
      "p_value: 0.003949772803445326\n",
      "There is signigicant differenece in the mean recovery times b/w the two medication\n"
     ]
    }
   ],
   "source": [
    "MedicationA=[10, 12, 14, 11, 13]\n",
    "MedicationB=[15, 17, 16, 14, 18]\n",
    "\n",
    "from scipy import stats\n",
    "\n",
    "def perform_anova(*groups):\n",
    "    _,p_value=stats.f_oneway(*groups)\n",
    "\n",
    "    return p_value\n",
    "\n",
    "p_value= perform_anova(MedicationA,MedicationB)\n",
    "alpha=0.05\n",
    "print(f\"p_value: {p_value}\")\n",
    "if p_value < alpha:\n",
    "    print(f\"There is signigicant differenece in the mean recovery times b/w the two medication\")\n",
    "else:\n",
    "    print(f\"There is no signigicant differenece in the mean recovery times b/w the two medication\")\n"
   ]
  },
  {
   "cell_type": "markdown",
   "metadata": {},
   "source": [
    "10. Scenario: A company wants to analyze customer feedback ratings on a scale of 1 to 10. The data collected is\n",
    "\n",
    " as follows:\n",
    "    [8, 9, 7, 6, 8, 10, 9, 8, 7, 8]\n",
    "    Calculate the 75th percentile of the feedback ratings."
   ]
  },
  {
   "cell_type": "code",
   "execution_count": 68,
   "metadata": {},
   "outputs": [],
   "source": [
    "Feed = [8, 9, 7, 6, 8, 10, 9, 8, 7, 8]\n",
    "import numpy as np\n",
    "\n",
    "def Feedback(data,percentile):\n",
    "    result=np.percentile(data,percentile)\n",
    "    return result\n"
   ]
  },
  {
   "cell_type": "code",
   "execution_count": 69,
   "metadata": {},
   "outputs": [
    {
     "name": "stdout",
     "output_type": "stream",
     "text": [
      "percentile 75: 8.75\n"
     ]
    }
   ],
   "source": [
    "percentile_75=Feedback(Feed,75)\n",
    "print(f\"percentile 75: {percentile_75}\")"
   ]
  },
  {
   "cell_type": "markdown",
   "metadata": {},
   "source": [
    "11. Scenario: A quality control department wants to test the weight consistency of a product. The weights of a sample of products are as follows:\n",
    "    [10.2, 9.8, 10.0, 10.5, 10.3, 10.1]\n",
    "    Perform a hypothesis test to determine if the mean weight differs significantly from 10 grams."
   ]
  },
  {
   "cell_type": "code",
   "execution_count": 70,
   "metadata": {},
   "outputs": [
    {
     "name": "stdout",
     "output_type": "stream",
     "text": [
      "The mean weight not differs signigicatly from 10 grams\n"
     ]
    }
   ],
   "source": [
    "weights = [10.2, 9.8, 10.0, 10.5, 10.3, 10.1]\n",
    "from scipy import stats\n",
    "def perform_one_sample_t_test(data,population_mean):\n",
    "    _,p_value= stats.ttest_1samp(data,population_mean)\n",
    "    return p_value\n",
    "\n",
    "popuation_mean = sum(weights)/len(weights)\n",
    "p_value = perform_one_sample_t_test(weights,popuation_mean)\n",
    "alpha=0.05\n",
    "if p_value < alpha:\n",
    "    print(f\"The mean weight differs signigicatly from 10 grams\")\n",
    "else:\n",
    "    print(f\"The mean weight not differs signigicatly from 10 grams\")\n",
    "\n"
   ]
  },
  {
   "cell_type": "markdown",
   "metadata": {},
   "source": [
    "12. Scenario: A company wants to analyze the click-through rates of two different website designs. The number of clicks for each design is as follows:\n",
    "    Design A: [100, 120, 110, 90, 95]\n",
    "    Design B: [80, 85, 90, 95, 100]\n",
    "    Perform a chi-square test to determine if there is a significant difference in the click-through rates between the two designs."
   ]
  },
  {
   "cell_type": "code",
   "execution_count": 72,
   "metadata": {},
   "outputs": [
    {
     "name": "stdout",
     "output_type": "stream",
     "text": [
      "There is no significant difference in the click through rates between the two designs\n"
     ]
    }
   ],
   "source": [
    "DesignA=[100, 120, 110, 90, 95]\n",
    "DesignB=[80, 85, 90, 95, 100]\n",
    "\n",
    "def chi_square_test(observed):\n",
    "    observed_flat=np.concatenate(observed)\n",
    "    _,p_value=stats.chisquare(observed_flat)\n",
    "    return p_value\n",
    "\n",
    "observed=[DesignA,DesignB]\n",
    "\n",
    "p_value=chi_square_test(observed)\n",
    "alpha=0.05\n",
    "if p_value < alpha:\n",
    "    print(f\"There is significant difference in the click through rates between the two designs\")\n",
    "else:\n",
    "    print(f\"There is no significant difference in the click through rates between the two designs\")\n",
    "\n"
   ]
  },
  {
   "cell_type": "markdown",
   "metadata": {},
   "source": [
    "13. Scenario: A survey is conducted to measure customer satisfaction with a product on a scale of 1 to 10. The data collected is as follows:\n",
    "    [7, 9, 6, 8, 10, 7, 8, 9, 7, 8]\n",
    "    Calculate the 95% confidence interval for the population mean satisfaction score."
   ]
  },
  {
   "cell_type": "code",
   "execution_count": 73,
   "metadata": {},
   "outputs": [
    {
     "name": "stdout",
     "output_type": "stream",
     "text": [
      "The confidence interval for 95% confidence interval for the population mean : 7.043561120599888,8.756438879400113\n"
     ]
    }
   ],
   "source": [
    "import numpy as np\n",
    "from scipy import stats\n",
    "\n",
    "def calculate_confidence_interval(data,confidence=0.95):\n",
    "    n=len(data)\n",
    "    mean=np.mean(data)\n",
    "    std_error=stats.sem(data)\n",
    "    margin_of_error=std_error*stats.t.ppf((1+confidence)/2,n-1)\n",
    "    lower_bound=mean-margin_of_error\n",
    "    upper_bound=mean+margin_of_error\n",
    "    return lower_bound,upper_bound\n",
    "\n",
    "satisfaction_scores=[7, 9, 6, 8, 10, 7, 8, 9, 7, 8]\n",
    "lower_bound,upper_bound=calculate_confidence_interval(satisfaction_scores,confidence=0.95)\n",
    "print(f\"The confidence interval for 95% confidence interval for the population mean : {lower_bound},{upper_bound}\")"
   ]
  },
  {
   "cell_type": "markdown",
   "metadata": {},
   "source": [
    "14. Scenario: A company wants to analyze the effect of temperature on product performance. The data collected is as follows:\n",
    "    Temperature (in degrees Celsius): [20, 22, 23, 19, 21]\n",
    "    Performance (on a scale of 1 to 10): [8, 7, 9, 6, 8]\n",
    "    Perform a simple linear regression to predict performance based on temperature."
   ]
  }
 ],
 "metadata": {
  "kernelspec": {
   "display_name": "Python 3",
   "language": "python",
   "name": "python3"
  },
  "language_info": {
   "codemirror_mode": {
    "name": "ipython",
    "version": 3
   },
   "file_extension": ".py",
   "mimetype": "text/x-python",
   "name": "python",
   "nbconvert_exporter": "python",
   "pygments_lexer": "ipython3",
   "version": "3.8.16"
  },
  "orig_nbformat": 4
 },
 "nbformat": 4,
 "nbformat_minor": 2
}
